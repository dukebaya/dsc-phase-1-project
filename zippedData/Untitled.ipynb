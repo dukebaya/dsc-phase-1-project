{
 "cells": [
  {
   "cell_type": "markdown",
   "metadata": {},
   "source": [
    "## Final Project Submission\n",
    "\n",
    "Please fill out:\n",
    "* Student name: Philip Baya Mweri\n",
    "* Student pace: Part time \n",
    "* Scheduled project review date/time: 24/07/2023\n",
    "* Instructor name: Maryann Mwikali\n",
    "* Blog post URL:\n"
   ]
  },
  {
   "cell_type": "markdown",
   "metadata": {},
   "source": [
    "ICROSOFT MOVIE STUDIO\n",
    "\n",
    "\n",
    "I Analysed this project based on\n",
    "\n",
    "1. Marketable genres based on pupularity- reviews and most made\n",
    "2. The costs and profit  based on the budgets for a particular movies. I used the financial data(gross and profit) as the    determining factors to measure success\n",
    "3. Movie directors doing well."
   ]
  },
  {
   "cell_type": "code",
   "execution_count": null,
   "metadata": {},
   "outputs": [],
   "source": [
    "im"
   ]
  }
 ],
 "metadata": {
  "kernelspec": {
   "display_name": "Python (learn-env)",
   "language": "python",
   "name": "learn-env"
  }
 },
 "nbformat": 4,
 "nbformat_minor": 4
}
